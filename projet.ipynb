{
 "cells": [
  {
   "cell_type": "markdown",
   "id": "e92046ce-0546-4c20-ae8b-ff959205870d",
   "metadata": {},
   "source": [
    "# Partie 1"
   ]
  },
  {
   "cell_type": "code",
   "execution_count": 22,
   "id": "d165ff77-1ca8-474f-8b01-be237164ef59",
   "metadata": {
    "scrolled": true
   },
   "outputs": [
    {
     "data": {
      "text/html": [
       "<div>\n",
       "<style scoped>\n",
       "    .dataframe tbody tr th:only-of-type {\n",
       "        vertical-align: middle;\n",
       "    }\n",
       "\n",
       "    .dataframe tbody tr th {\n",
       "        vertical-align: top;\n",
       "    }\n",
       "\n",
       "    .dataframe thead th {\n",
       "        text-align: right;\n",
       "    }\n",
       "</style>\n",
       "<table border=\"1\" class=\"dataframe\">\n",
       "  <thead>\n",
       "    <tr style=\"text-align: right;\">\n",
       "      <th></th>\n",
       "      <th>Pays</th>\n",
       "      <th>Age</th>\n",
       "      <th>Genre</th>\n",
       "      <th>Dépenses des clients</th>\n",
       "    </tr>\n",
       "  </thead>\n",
       "  <tbody>\n",
       "    <tr>\n",
       "      <th>0</th>\n",
       "      <td>France</td>\n",
       "      <td>32</td>\n",
       "      <td>Female</td>\n",
       "      <td>150.50</td>\n",
       "    </tr>\n",
       "    <tr>\n",
       "      <th>1</th>\n",
       "      <td>Germany</td>\n",
       "      <td>45</td>\n",
       "      <td>Male</td>\n",
       "      <td>200.75</td>\n",
       "    </tr>\n",
       "    <tr>\n",
       "      <th>2</th>\n",
       "      <td>Spain</td>\n",
       "      <td>28</td>\n",
       "      <td>Female</td>\n",
       "      <td>75.25</td>\n",
       "    </tr>\n",
       "    <tr>\n",
       "      <th>3</th>\n",
       "      <td>Italy</td>\n",
       "      <td>39</td>\n",
       "      <td>Male</td>\n",
       "      <td>180.00</td>\n",
       "    </tr>\n",
       "    <tr>\n",
       "      <th>4</th>\n",
       "      <td>UK</td>\n",
       "      <td>52</td>\n",
       "      <td>Female</td>\n",
       "      <td>250.30</td>\n",
       "    </tr>\n",
       "  </tbody>\n",
       "</table>\n",
       "</div>"
      ],
      "text/plain": [
       "      Pays  Age    Genre Dépenses des clients\n",
       "0   France    32  Female               150.50\n",
       "1  Germany    45    Male               200.75\n",
       "2    Spain    28  Female                75.25\n",
       "3    Italy    39    Male               180.00\n",
       "4       UK    52  Female               250.30"
      ]
     },
     "execution_count": 22,
     "metadata": {},
     "output_type": "execute_result"
    }
   ],
   "source": [
    "import pandas as pd\n",
    "import matplotlib.pyplot as plt\n",
    "# Read the Excel file\n",
    "df = pd.read_excel('data-sell4all.xlsx')\n",
    "# Display the first 5 rows of the dataframe\n",
    "df.head()"
   ]
  },
  {
   "cell_type": "code",
   "execution_count": 23,
   "id": "38f93774-4476-4309-84a5-9899a604c959",
   "metadata": {},
   "outputs": [
    {
     "name": "stdout",
     "output_type": "stream",
     "text": [
      "Nombre de lignes : 65\n",
      "\n",
      "Nombre de colonnes : 4\n",
      "Colonnes du fichier exel :\n",
      "['Pays', ' Age ', 'Genre', 'Dépenses des clients']\n",
      "\n",
      "Types de données des champs :\n",
      "Pays                    object\n",
      " Age                    object\n",
      "Genre                   object\n",
      "Dépenses des clients    object\n",
      "dtype: object\n"
     ]
    }
   ],
   "source": [
    "import pandas as pd\n",
    "\n",
    "# Lire le fichier Excel\n",
    "df = pd.read_excel('data-sell4all.xlsx')  # Assurez-vous d'utiliser le bon nom de fichier et le bon chemin\n",
    "\n",
    "# Afficher le nombre de lignes \n",
    "num_lignes, num_colonnes = df.shape\n",
    "print(f\"Nombre de lignes : {num_lignes}\")\n",
    "\n",
    "# Afficher le nombre et les noms des colonnes\n",
    "print(f\"\\nNombre de colonnes : {num_colonnes}\")\n",
    "print(\"Colonnes du fichier exel :\")\n",
    "print(df.columns.tolist())\n",
    "\n",
    "# Afficher les types de données des champs\n",
    "print(\"\\nTypes de données des champs :\")\n",
    "print(df.dtypes)\n"
   ]
  },
  {
   "cell_type": "code",
   "execution_count": 24,
   "id": "bcebe184-39fd-4044-a18a-e689bc067869",
   "metadata": {},
   "outputs": [
    {
     "data": {
      "text/html": [
       "<div>\n",
       "<style scoped>\n",
       "    .dataframe tbody tr th:only-of-type {\n",
       "        vertical-align: middle;\n",
       "    }\n",
       "\n",
       "    .dataframe tbody tr th {\n",
       "        vertical-align: top;\n",
       "    }\n",
       "\n",
       "    .dataframe thead th {\n",
       "        text-align: right;\n",
       "    }\n",
       "</style>\n",
       "<table border=\"1\" class=\"dataframe\">\n",
       "  <thead>\n",
       "    <tr style=\"text-align: right;\">\n",
       "      <th></th>\n",
       "      <th>Pays</th>\n",
       "      <th>Age</th>\n",
       "      <th>Genre</th>\n",
       "      <th>Dépenses des clients</th>\n",
       "    </tr>\n",
       "  </thead>\n",
       "  <tbody>\n",
       "    <tr>\n",
       "      <th>count</th>\n",
       "      <td>65</td>\n",
       "      <td>62</td>\n",
       "      <td>64</td>\n",
       "      <td>63</td>\n",
       "    </tr>\n",
       "    <tr>\n",
       "      <th>unique</th>\n",
       "      <td>20</td>\n",
       "      <td>40</td>\n",
       "      <td>12</td>\n",
       "      <td>59</td>\n",
       "    </tr>\n",
       "    <tr>\n",
       "      <th>top</th>\n",
       "      <td>France</td>\n",
       "      <td>39</td>\n",
       "      <td>Female</td>\n",
       "      <td>180.00</td>\n",
       "    </tr>\n",
       "    <tr>\n",
       "      <th>freq</th>\n",
       "      <td>10</td>\n",
       "      <td>3</td>\n",
       "      <td>27</td>\n",
       "      <td>2</td>\n",
       "    </tr>\n",
       "  </tbody>\n",
       "</table>\n",
       "</div>"
      ],
      "text/plain": [
       "          Pays   Age    Genre Dépenses des clients\n",
       "count       65     62      64                   63\n",
       "unique      20     40      12                   59\n",
       "top     France     39  Female               180.00\n",
       "freq        10      3      27                    2"
      ]
     },
     "execution_count": 24,
     "metadata": {},
     "output_type": "execute_result"
    }
   ],
   "source": [
    "df.describe()"
   ]
  },
  {
   "cell_type": "code",
   "execution_count": 11,
   "id": "3edcee15-178b-4424-af91-11201d8314e8",
   "metadata": {},
   "outputs": [],
   "source": [
    "# Strip any leading or trailing spaces from the column names\n",
    "df.columns = df.columns.str.strip()\n",
    "\n",
    "# Now convert 'Age' and 'Dépenses des clients' to numeric, forcing errors to NaN\n",
    "df['Age'] = pd.to_numeric(df['Age'], errors='coerce')\n",
    "df['Dépenses des clients'] = pd.to_numeric(df['Dépenses des clients'], errors='coerce')\n"
   ]
  },
  {
   "cell_type": "code",
   "execution_count": 12,
   "id": "66086c44-f8ba-4f7a-b05d-bebc7319101b",
   "metadata": {},
   "outputs": [
    {
     "name": "stdout",
     "output_type": "stream",
     "text": [
      "Médiane de l'Âge: 36.0\n",
      "Moyenne de l'Âge: 52.42372881355932\n",
      "Médiane des Dépenses des clients: 167.5\n",
      "Moyenne des Dépenses des clients: 34811.72948275862\n"
     ]
    }
   ],
   "source": [
    "# Calculate the median and mean for 'Age'\n",
    "age_median = df['Age'].median()\n",
    "age_mean = df['Age'].mean()\n",
    "\n",
    "# Calculate the median and mean for 'Dépenses des clients'\n",
    "depenses_median = df['Dépenses des clients'].median()\n",
    "depenses_mean = df['Dépenses des clients'].mean()\n",
    "\n",
    "# Display the results\n",
    "print(f\"Médiane de l'Âge: {age_median}\")\n",
    "print(f\"Moyenne de l'Âge: {age_mean}\")\n",
    "\n",
    "print(f\"Médiane des Dépenses des clients: {depenses_median}\")\n",
    "print(f\"Moyenne des Dépenses des clients: {depenses_mean}\")\n"
   ]
  },
  {
   "cell_type": "markdown",
   "id": "d599d42c-e79f-4f8a-aef6-c096b8ae9f01",
   "metadata": {},
   "source": [
    "# Partie 2"
   ]
  },
  {
   "cell_type": "code",
   "execution_count": 13,
   "id": "d160c124-6f93-4ec8-a891-e656a78b0e4b",
   "metadata": {},
   "outputs": [
    {
     "data": {
      "image/png": "[encoded data removed]",
      "text/plain": [
       "<Figure size 1000x600 with 1 Axes>"
      ]
     },
     "metadata": {},
     "output_type": "display_data"
    }
   ],
   "source": [
    "# Lire le fichier Excel\n",
    "df = pd.read_excel('data-sell4all.xlsx')\n",
    "\n",
    "# Nettoyer les colonnes (strip des espaces)\n",
    "df.columns = df.columns.str.strip()\n",
    "\n",
    "# Convertir les colonnes nécessaires en types numériques\n",
    "df['Dépenses des clients'] = pd.to_numeric(df['Dépenses des clients'], errors='coerce')\n",
    "\n",
    "# Créer un graphique à barres des dépenses par pays\n",
    "df.groupby('Pays')['Dépenses des clients'].sum().plot(kind='bar', figsize=(10, 6), color='skyblue')\n",
    "\n",
    "# Ajouter des labels et un titre\n",
    "plt.title(\"Dépenses des clients par pays\")\n",
    "plt.xlabel(\"Pays\")\n",
    "plt.ylabel(\"Total des dépenses (en €)\")\n",
    "plt.xticks(rotation=45)\n",
    "plt.show()\n"
   ]
  },
  {
   "cell_type": "code",
   "execution_count": 14,
   "id": "511669fa-2980-45a7-9b16-a99e3f11e6ac",
   "metadata": {},
   "outputs": [],
   "source": [
    "# Supprimer les lignes avec des dépenses de moins de 10 €\n",
    "df_cleaned = df[df['Dépenses des clients'] >= 10]\n"
   ]
  },
  {
   "cell_type": "code",
   "execution_count": 15,
   "id": "1dfa777b-c060-475e-906e-ae4fdb4e2873",
   "metadata": {},
   "outputs": [],
   "source": [
    "# Supprimer les lignes dupliquées\n",
    "df_cleaned = df_cleaned.drop_duplicates()\n"
   ]
  },
  {
   "cell_type": "code",
   "execution_count": 16,
   "id": "1d843afd-fcb7-4673-86f6-3e0805a6391c",
   "metadata": {},
   "outputs": [],
   "source": [
    "# Sélectionner uniquement les colonnes nécessaires\n",
    "df_cleaned = df_cleaned[['Pays', 'Age', 'Genre', 'Dépenses des clients']]\n",
    "\n",
    "# Écrire les données nettoyées dans un nouveau fichier Excel\n",
    "df_cleaned.to_excel('data-sell4all-cleaned.xlsx', index=False)"
   ]
  },
  {
   "cell_type": "code",
   "execution_count": null,
   "id": "94f8ae12-4e98-4dd3-9a5b-2405972cd77f",
   "metadata": {},
   "outputs": [],
   "source": []
  },
  {
   "cell_type": "code",
   "execution_count": null,
   "id": "172a2808-7a9f-4dcf-a3c8-687d9712a5ae",
   "metadata": {},
   "outputs": [],
   "source": []
  }
 ],
 "metadata": {
  "kernelspec": {
   "display_name": "Python 3 (ipykernel)",
   "language": "python",
   "name": "python3"
  },
  "language_info": {
   "codemirror_mode": {
    "name": "ipython",
    "version": 3
   },
   "file_extension": ".py",
   "mimetype": "text/x-python",
   "name": "python",
   "nbconvert_exporter": "python",
   "pygments_lexer": "ipython3",
   "version": "3.12.3"
  }
 },
 "nbformat": 4,
 "nbformat_minor": 5
}
